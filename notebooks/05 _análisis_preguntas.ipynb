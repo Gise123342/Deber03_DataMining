{
 "cells": [
  {
   "cell_type": "code",
   "execution_count": 38,
   "id": "d9dfafd4-63e8-40f8-b5ba-3ea2af59ab62",
   "metadata": {},
   "outputs": [
    {
     "name": "stdout",
     "output_type": "stream",
     "text": [
      "Sesión Spark y conexión Snowflake listas.\n"
     ]
    }
   ],
   "source": [
    "#Conexión Snowflake / Spark \n",
    "import os\n",
    "from dotenv import load_dotenv\n",
    "from pyspark.sql import SparkSession\n",
    "\n",
    "load_dotenv(\".env\", override=True)\n",
    "\n",
    "spark = (\n",
    "    SparkSession.builder\n",
    "    .appName(\"Deber03_Analisis_Analytics\")\n",
    "    .config(\"spark.sql.shuffle.partitions\", \"4\")\n",
    "    .getOrCreate()\n",
    ")\n",
    "\n",
    "SF_OPTIONS = {\n",
    "    \"sfURL\": f\"{os.getenv('SNOWFLAKE_ACCOUNT')}.snowflakecomputing.com\",\n",
    "    \"sfDatabase\": os.getenv(\"SNOWFLAKE_DATABASE\"),\n",
    "    \"sfWarehouse\": os.getenv(\"SNOWFLAKE_WAREHOUSE\"),\n",
    "    \"sfUser\": os.getenv(\"SNOWFLAKE_USER\"),\n",
    "    \"sfPassword\": os.getenv(\"SNOWFLAKE_PASSWORD\"),\n",
    "    \"sfSchema\": \"ANALYTICS\",\n",
    "}\n",
    "\n",
    "print(\"Sesión Spark y conexión Snowflake listas.\")\n"
   ]
  },
  {
   "cell_type": "code",
   "execution_count": 39,
   "id": "f1092107-30da-4cca-8617-faaaa018ca00",
   "metadata": {},
   "outputs": [
    {
     "name": "stdout",
     "output_type": "stream",
     "text": [
      "Tabla ANALYTICS.TRIPS_ENRICHED cargada (16,033,686 filas)\n",
      "root\n",
      " |-- VENDORID: decimal(38,0) (nullable = true)\n",
      " |-- VENDOR_NAME: string (nullable = true)\n",
      " |-- PICKUP_DATETIME: timestamp (nullable = true)\n",
      " |-- DROPOFF_DATETIME: timestamp (nullable = true)\n",
      " |-- PASSENGER_COUNT: double (nullable = true)\n",
      " |-- TRIP_DISTANCE: double (nullable = true)\n",
      " |-- RATECODEID: double (nullable = true)\n",
      " |-- RATE_CODE_DESC: string (nullable = true)\n",
      " |-- STORE_AND_FWD_FLAG: string (nullable = true)\n",
      " |-- PULOCATIONID: decimal(38,0) (nullable = true)\n",
      " |-- DOLOCATIONID: decimal(38,0) (nullable = true)\n",
      " |-- PAYMENT_TYPE: double (nullable = true)\n",
      " |-- PAYMENT_TYPE_DESC: string (nullable = true)\n",
      " |-- FARE_AMOUNT: double (nullable = true)\n",
      " |-- EXTRA: double (nullable = true)\n",
      " |-- MTA_TAX: double (nullable = true)\n",
      " |-- TIP_AMOUNT: double (nullable = true)\n",
      " |-- TOLLS_AMOUNT: double (nullable = true)\n",
      " |-- IMPROVEMENT_SURCHARGE: double (nullable = true)\n",
      " |-- TOTAL_AMOUNT: double (nullable = true)\n",
      " |-- CONGESTION_SURCHARGE: double (nullable = true)\n",
      " |-- AIRPORT_FEE: double (nullable = true)\n",
      " |-- SERVICE_TYPE: string (nullable = true)\n",
      " |-- SOURCE_YEAR: decimal(38,0) (nullable = true)\n",
      " |-- SOURCE_MONTH: decimal(38,0) (nullable = true)\n",
      " |-- RUN_ID: string (nullable = true)\n",
      " |-- INGESTED_AT_UTC: timestamp (nullable = true)\n",
      " |-- SOURCE_PATH: string (nullable = true)\n",
      " |-- PU_BOROUGH: string (nullable = true)\n",
      " |-- PU_ZONE: string (nullable = true)\n",
      " |-- DO_BOROUGH: string (nullable = true)\n",
      " |-- DO_ZONE: string (nullable = true)\n",
      "\n"
     ]
    }
   ],
   "source": [
    "# Lectura de TRIPS_ENRICHED \n",
    "trips = (\n",
    "    spark.read.format(\"snowflake\")\n",
    "    .options(**SF_OPTIONS)\n",
    "    .option(\"dbtable\", \"TRIPS_ENRICHED\")\n",
    "    .load()\n",
    ")\n",
    "\n",
    "print(f\"Tabla ANALYTICS.TRIPS_ENRICHED cargada ({trips.count():,} filas)\")\n",
    "trips.createOrReplaceTempView(\"trips_enriched\")\n",
    "trips.printSchema()\n"
   ]
  },
  {
   "cell_type": "code",
   "execution_count": 40,
   "id": "a859a949-aef4-46bb-b757-c50a14ff1c8c",
   "metadata": {},
   "outputs": [
    {
     "name": "stdout",
     "output_type": "stream",
     "text": [
      "+------------+------------+-------------+---------+\n",
      "|service_type|total_viajes|avg_distancia|avg_total|\n",
      "+------------+------------+-------------+---------+\n",
      "|      yellow|    14745987|         2.87|    17.19|\n",
      "|       green|     1287699|         3.85|    18.36|\n",
      "+------------+------------+-------------+---------+\n",
      "\n"
     ]
    }
   ],
   "source": [
    "# Verificación rápida \n",
    "spark.sql(\"\"\"\n",
    "SELECT service_type,\n",
    "       COUNT(*) AS total_viajes,\n",
    "       ROUND(AVG(trip_distance),2) AS avg_distancia,\n",
    "       ROUND(AVG(total_amount),2) AS avg_total\n",
    "FROM trips_enriched\n",
    "GROUP BY service_type\n",
    "\"\"\").show()\n"
   ]
  },
  {
   "cell_type": "code",
   "execution_count": 41,
   "id": "af6ffa16-8942-4a69-8847-0a498183b062",
   "metadata": {},
   "outputs": [
    {
     "name": "stdout",
     "output_type": "stream",
     "text": [
      "+------------+------------+\n",
      "|service_type|total_viajes|\n",
      "+------------+------------+\n",
      "|      yellow|    14745987|\n",
      "|       green|     1287699|\n",
      "+------------+------------+\n",
      "\n"
     ]
    }
   ],
   "source": [
    "#a) ¿Cuántos viajes hay por tipo de servicio (service_type)?\n",
    "\n",
    "spark.sql(\"\"\"\n",
    "SELECT service_type, COUNT(*) AS total_viajes\n",
    "FROM trips_enriched\n",
    "GROUP BY service_type\n",
    "ORDER BY total_viajes DESC\n",
    "\"\"\").show()\n"
   ]
  },
  {
   "cell_type": "code",
   "execution_count": 42,
   "id": "9f0e1910-16b9-46c8-b6f5-a3c08c7a49e4",
   "metadata": {},
   "outputs": [
    {
     "name": "stdout",
     "output_type": "stream",
     "text": [
      "+-----------+------------------+\n",
      "|  tipo_pago|distancia_promedio|\n",
      "+-----------+------------------+\n",
      "|       NULL|              9.91|\n",
      "|    Unknown|              4.01|\n",
      "|Credit card|              3.04|\n",
      "|       Cash|              2.51|\n",
      "|    Dispute|              2.45|\n",
      "|  No charge|              2.26|\n",
      "+-----------+------------------+\n",
      "\n"
     ]
    }
   ],
   "source": [
    "#b) ¿Cuál es el promedio de distancia (trip_distance) por tipo de pago?\n",
    "\n",
    "spark.sql(\"\"\"\n",
    "SELECT payment_type_desc AS tipo_pago,\n",
    "       ROUND(AVG(trip_distance),2) AS distancia_promedio\n",
    "FROM trips_enriched\n",
    "GROUP BY payment_type_desc\n",
    "ORDER BY distancia_promedio DESC\n",
    "\"\"\").show()\n"
   ]
  },
  {
   "cell_type": "code",
   "execution_count": 43,
   "id": "f8caee2e-d698-4980-93c8-d439cf2bc1b7",
   "metadata": {},
   "outputs": [
    {
     "name": "stdout",
     "output_type": "stream",
     "text": [
      "+----------------------------+------------+\n",
      "|zona_origen                 |total_viajes|\n",
      "+----------------------------+------------+\n",
      "|Upper East Side South       |627677      |\n",
      "|Upper East Side North       |606724      |\n",
      "|Midtown Center              |600067      |\n",
      "|Midtown East                |532233      |\n",
      "|Penn Station/Madison Sq West|508377      |\n",
      "|Times Sq/Theatre District   |504609      |\n",
      "|Clinton East                |465534      |\n",
      "|Union Sq                    |460419      |\n",
      "|Murray Hill                 |460162      |\n",
      "|Lincoln Square East         |451966      |\n",
      "+----------------------------+------------+\n",
      "\n"
     ]
    }
   ],
   "source": [
    "#c) ¿Qué zona de origen (pu_zone) tiene más viajes?\n",
    "\n",
    "spark.sql(\"\"\"\n",
    "SELECT pu_zone AS zona_origen,\n",
    "       COUNT(*) AS total_viajes\n",
    "FROM trips_enriched\n",
    "WHERE pu_zone IS NOT NULL\n",
    "GROUP BY pu_zone\n",
    "ORDER BY total_viajes DESC\n",
    "LIMIT 10\n",
    "\"\"\").show(truncate=False)\n"
   ]
  },
  {
   "cell_type": "code",
   "execution_count": 45,
   "id": "a0536172-6d91-4ec7-a0ba-2bd097baa331",
   "metadata": {},
   "outputs": [
    {
     "name": "stdout",
     "output_type": "stream",
     "text": [
      "+-------------------------+------------+\n",
      "|zona_destino             |total_viajes|\n",
      "+-------------------------+------------+\n",
      "|Upper East Side North    |646117      |\n",
      "|Upper East Side South    |568181      |\n",
      "|Midtown Center           |564525      |\n",
      "|Murray Hill              |471764      |\n",
      "|Midtown East             |449345      |\n",
      "|Times Sq/Theatre District|434177      |\n",
      "|Lincoln Square East      |414712      |\n",
      "|Clinton East             |407774      |\n",
      "|Union Sq                 |398974      |\n",
      "|Upper West Side South    |395606      |\n",
      "+-------------------------+------------+\n",
      "\n"
     ]
    }
   ],
   "source": [
    "#d) ¿Qué zona de destino (do_zone) tiene más viajes?\n",
    "spark.sql(\"\"\"\n",
    "SELECT do_zone AS zona_destino,\n",
    "       COUNT(*) AS total_viajes\n",
    "FROM trips_enriched\n",
    "WHERE do_zone IS NOT NULL\n",
    "GROUP BY do_zone\n",
    "ORDER BY total_viajes DESC\n",
    "LIMIT 10\n",
    "\"\"\").show(truncate=False)\n"
   ]
  },
  {
   "cell_type": "code",
   "execution_count": 46,
   "id": "0e7ab21f-ae0d-4e4c-9e1c-1f0d7510efc4",
   "metadata": {},
   "outputs": [
    {
     "name": "stdout",
     "output_type": "stream",
     "text": [
      "+---------------------------------+--------------+\n",
      "|do_zone                          |promedio_monto|\n",
      "+---------------------------------+--------------+\n",
      "|Rossville/Woodrow                |100.11        |\n",
      "|Newark Airport                   |97.07         |\n",
      "|Charleston/Tottenville           |95.34         |\n",
      "|Eltingville/Annadale/Prince's Bay|94.33         |\n",
      "|Arden Heights                    |90.56         |\n",
      "|Outside of NYC                   |84.54         |\n",
      "|Great Kills                      |82.39         |\n",
      "|Oakwood                          |80.23         |\n",
      "|Mariners Harbor                  |76.62         |\n",
      "|New Dorp/Midland Beach           |76.57         |\n",
      "+---------------------------------+--------------+\n",
      "\n"
     ]
    }
   ],
   "source": [
    "#e) Promedio de monto total (total_amount) por zona de destino\n",
    "spark.sql(\"\"\"\n",
    "SELECT do_zone,\n",
    "       ROUND(AVG(total_amount),2) AS promedio_monto\n",
    "FROM trips_enriched\n",
    "WHERE do_zone IS NOT NULL\n",
    "GROUP BY do_zone\n",
    "ORDER BY promedio_monto DESC\n",
    "LIMIT 10\n",
    "\"\"\").show(truncate=False)\n"
   ]
  },
  {
   "cell_type": "code",
   "execution_count": 47,
   "id": "998f28dd-f5a8-4f0a-8263-9ef26dab7428",
   "metadata": {},
   "outputs": [
    {
     "name": "stdout",
     "output_type": "stream",
     "text": [
      "+-----------+------------+------------+\n",
      "|source_year|source_month|total_viajes|\n",
      "+-----------+------------+------------+\n",
      "|       2019|           1|     8368722|\n",
      "|       2019|           2|     7664964|\n",
      "+-----------+------------+------------+\n",
      "\n"
     ]
    }
   ],
   "source": [
    "#f) ¿Cuántos viajes por mes?\n",
    "spark.sql(\"\"\"\n",
    "SELECT source_year, source_month,\n",
    "       COUNT(*) AS total_viajes\n",
    "FROM trips_enriched\n",
    "GROUP BY source_year, source_month\n",
    "ORDER BY source_year, source_month\n",
    "\"\"\").show()\n"
   ]
  },
  {
   "cell_type": "code",
   "execution_count": 48,
   "id": "6a973a64-c276-4671-82ab-f9bcb5201e7e",
   "metadata": {},
   "outputs": [
    {
     "name": "stdout",
     "output_type": "stream",
     "text": [
      "+------------+----------------+\n",
      "|service_type|promedio_propina|\n",
      "+------------+----------------+\n",
      "|      yellow|            1.98|\n",
      "|       green|            0.82|\n",
      "+------------+----------------+\n",
      "\n"
     ]
    }
   ],
   "source": [
    "#g) Promedio de propina (tip_amount) por tipo de servicio\n",
    "spark.sql(\"\"\"\n",
    "SELECT service_type,\n",
    "       ROUND(AVG(tip_amount),2) AS promedio_propina\n",
    "FROM trips_enriched\n",
    "GROUP BY service_type\n",
    "\"\"\").show()\n"
   ]
  },
  {
   "cell_type": "code",
   "execution_count": 49,
   "id": "99b377ab-55c3-4a6f-bd0f-74f40f5faad6",
   "metadata": {},
   "outputs": [
    {
     "name": "stdout",
     "output_type": "stream",
     "text": [
      "+------------------+---------------+\n",
      "|tipo_tarifa       |promedio_tarifa|\n",
      "+------------------+---------------+\n",
      "|Group ride        |91.88          |\n",
      "|Nassau/Westchester|69.57          |\n",
      "|Newark            |64.42          |\n",
      "|JFK               |51.68          |\n",
      "|NULL              |46.84          |\n",
      "|Negotiated fare   |35.97          |\n",
      "|Standard rate     |11.38          |\n",
      "+------------------+---------------+\n",
      "\n"
     ]
    }
   ],
   "source": [
    "#h) ¿Cuál es la tarifa promedio (fare_amount) por tipo de tarifa (rate_code_desc)?\n",
    "\n",
    "spark.sql(\"\"\"\n",
    "SELECT rate_code_desc AS tipo_tarifa,\n",
    "       ROUND(AVG(fare_amount),2) AS promedio_tarifa\n",
    "FROM trips_enriched\n",
    "GROUP BY rate_code_desc\n",
    "ORDER BY promedio_tarifa DESC\n",
    "\"\"\").show(truncate=False)\n"
   ]
  },
  {
   "cell_type": "code",
   "execution_count": 50,
   "id": "5b45cfc1-eb8a-4e0b-b9ff-4c56b264be39",
   "metadata": {},
   "outputs": [
    {
     "name": "stdout",
     "output_type": "stream",
     "text": [
      "+---------------------+---------------------+----------+\n",
      "|pu_zone              |do_zone              |frecuencia|\n",
      "+---------------------+---------------------+----------+\n",
      "|N/A                  |N/A                  |193576    |\n",
      "|Upper East Side South|Upper East Side North|94882     |\n",
      "|Upper East Side North|Upper East Side North|88251     |\n",
      "|Upper East Side North|Upper East Side South|80845     |\n",
      "|Upper East Side South|Upper East Side South|74426     |\n",
      "|Upper West Side South|Upper West Side North|46734     |\n",
      "|Upper West Side South|Lincoln Square East  |43142     |\n",
      "|Lincoln Square East  |Upper West Side South|41731     |\n",
      "|Upper West Side North|Upper West Side South|40421     |\n",
      "|Lenox Hill West      |Upper East Side North|37924     |\n",
      "+---------------------+---------------------+----------+\n",
      "\n"
     ]
    }
   ],
   "source": [
    "#i) Top 10 combinaciones de zonas origen–destino más frecuentes\n",
    "\n",
    "spark.sql(\"\"\"\n",
    "SELECT pu_zone, do_zone, COUNT(*) AS frecuencia\n",
    "FROM trips_enriched\n",
    "WHERE pu_zone IS NOT NULL AND do_zone IS NOT NULL\n",
    "GROUP BY pu_zone, do_zone\n",
    "ORDER BY frecuencia DESC\n",
    "LIMIT 10\n",
    "\"\"\").show(truncate=False)\n"
   ]
  },
  {
   "cell_type": "code",
   "execution_count": 51,
   "id": "dedf0421-fc06-495c-9cb8-6a94c4a193ef",
   "metadata": {},
   "outputs": [
    {
     "name": "stdout",
     "output_type": "stream",
     "text": [
      "+------------+---------------+--------+\n",
      "|service_type|passenger_count|  viajes|\n",
      "+------------+---------------+--------+\n",
      "|       green|           NULL|   82054|\n",
      "|       green|            0.0|    2571|\n",
      "|       green|            1.0| 1039475|\n",
      "|       green|            2.0|   85174|\n",
      "|       green|            3.0|   15648|\n",
      "|       green|            4.0|    5950|\n",
      "|       green|            5.0|   38251|\n",
      "|       green|            6.0|   18523|\n",
      "|       green|            7.0|      18|\n",
      "|       green|            8.0|      23|\n",
      "|       green|            9.0|      12|\n",
      "|      yellow|           NULL|   58335|\n",
      "|      yellow|            0.0|  236531|\n",
      "|      yellow|            1.0|10411262|\n",
      "|      yellow|            2.0| 2157785|\n",
      "|      yellow|            3.0|  602052|\n",
      "|      yellow|            4.0|  269559|\n",
      "|      yellow|            5.0|  627838|\n",
      "|      yellow|            6.0|  382496|\n",
      "|      yellow|            7.0|      49|\n",
      "+------------+---------------+--------+\n",
      "only showing top 20 rows\n",
      "\n"
     ]
    }
   ],
   "source": [
    "#j) Distribución de pasajeros (passenger_count) por servicio\n",
    "spark.sql(\"\"\"\n",
    "SELECT service_type,\n",
    "       passenger_count,\n",
    "       COUNT(*) AS viajes\n",
    "FROM trips_enriched\n",
    "GROUP BY service_type, passenger_count\n",
    "ORDER BY service_type, passenger_count\n",
    "\"\"\").show()"
   ]
  },
  {
   "cell_type": "code",
   "execution_count": 52,
   "id": "d1c08e36-18ae-41a9-a6f8-a1e6c0fce2c3",
   "metadata": {},
   "outputs": [
    {
     "name": "stdout",
     "output_type": "stream",
     "text": [
      "+---------------+--------------+\n",
      "|passenger_count|promedio_total|\n",
      "+---------------+--------------+\n",
      "|           NULL|         48.25|\n",
      "|            0.0|         18.88|\n",
      "|            1.0|         16.95|\n",
      "|            2.0|         17.19|\n",
      "|            3.0|         16.98|\n",
      "|            4.0|         16.98|\n",
      "|            5.0|         16.86|\n",
      "|            6.0|         16.69|\n",
      "|            7.0|         43.58|\n",
      "|            8.0|         44.84|\n",
      "|            9.0|         36.66|\n",
      "+---------------+--------------+\n",
      "\n"
     ]
    }
   ],
   "source": [
    "#k) Promedio del total (total_amount) por cantidad de pasajeros\n",
    "\n",
    "spark.sql(\"\"\"\n",
    "SELECT passenger_count,\n",
    "       ROUND(AVG(total_amount),2) AS promedio_total\n",
    "FROM trips_enriched\n",
    "GROUP BY passenger_count\n",
    "ORDER BY passenger_count\n",
    "\"\"\").show()\n"
   ]
  },
  {
   "cell_type": "code",
   "execution_count": 53,
   "id": "a5341719-10bc-4c8a-8a6a-b0442fa1d2f4",
   "metadata": {},
   "outputs": [
    {
     "name": "stdout",
     "output_type": "stream",
     "text": [
      "+-----------+------------+-------------+\n",
      "|source_year|source_month|avg_distancia|\n",
      "+-----------+------------+-------------+\n",
      "|       2019|           1|         2.91|\n",
      "|       2019|           2|          3.0|\n",
      "+-----------+------------+-------------+\n",
      "\n"
     ]
    }
   ],
   "source": [
    "#l) Promedio de distancia por año y mes\n",
    "\n",
    "spark.sql(\"\"\"\n",
    "SELECT source_year, source_month,\n",
    "       ROUND(AVG(trip_distance),2) AS avg_distancia\n",
    "FROM trips_enriched\n",
    "GROUP BY source_year, source_month\n",
    "ORDER BY source_year, source_month\n",
    "\"\"\").show()\n"
   ]
  },
  {
   "cell_type": "code",
   "execution_count": 54,
   "id": "496d399f-1b69-4db5-b671-cd462c484f00",
   "metadata": {},
   "outputs": [
    {
     "name": "stdout",
     "output_type": "stream",
     "text": [
      "+------------+-----------------+--------------+\n",
      "|service_type|payment_type_desc|monto_promedio|\n",
      "+------------+-----------------+--------------+\n",
      "|      yellow|             NULL|         50.04|\n",
      "|       green|             NULL|         46.98|\n",
      "|      yellow|        No charge|         30.76|\n",
      "|       green|      Credit card|         19.55|\n",
      "|      yellow|      Credit card|         18.17|\n",
      "|       green|          Unknown|         14.06|\n",
      "|      yellow|             Cash|         13.83|\n",
      "|       green|             Cash|         11.55|\n",
      "|      yellow|          Dispute|          8.25|\n",
      "|       green|          Dispute|          2.86|\n",
      "|       green|        No charge|          1.23|\n",
      "+------------+-----------------+--------------+\n",
      "\n"
     ]
    }
   ],
   "source": [
    "#m) Monto promedio por tipo de pago y tipo de servicio\n",
    "\n",
    "spark.sql(\"\"\"\n",
    "SELECT service_type, payment_type_desc,\n",
    "       ROUND(AVG(total_amount),2) AS monto_promedio\n",
    "FROM trips_enriched\n",
    "GROUP BY service_type, payment_type_desc\n",
    "ORDER BY monto_promedio DESC\n",
    "\"\"\").show()\n"
   ]
  },
  {
   "cell_type": "code",
   "execution_count": 55,
   "id": "58b4315c-939b-4eb9-b719-7f726a4afba9",
   "metadata": {},
   "outputs": [
    {
     "name": "stdout",
     "output_type": "stream",
     "text": [
      "+----------------------+------------+\n",
      "|viajes_con_airport_fee|promedio_fee|\n",
      "+----------------------+------------+\n",
      "|                     0|        NULL|\n",
      "+----------------------+------------+\n",
      "\n"
     ]
    }
   ],
   "source": [
    "#n) Viajes con airport_fee > 0\n",
    "\n",
    "spark.sql(\"\"\"\n",
    "SELECT COUNT(*) AS viajes_con_airport_fee,\n",
    "       ROUND(AVG(airport_fee),2) AS promedio_fee\n",
    "FROM trips_enriched\n",
    "WHERE airport_fee > 0\n",
    "\"\"\").show()\n"
   ]
  },
  {
   "cell_type": "code",
   "execution_count": 56,
   "id": "4e56beaa-dbf5-49a2-bbdf-f909f43e392e",
   "metadata": {},
   "outputs": [
    {
     "name": "stdout",
     "output_type": "stream",
     "text": [
      "+-------------+--------------+\n",
      "|   pu_borough|promedio_total|\n",
      "+-------------+--------------+\n",
      "|          EWR|         91.59|\n",
      "|          N/A|         69.42|\n",
      "|Staten Island|          56.2|\n",
      "|       Queens|         37.84|\n",
      "|        Bronx|         26.88|\n",
      "|     Brooklyn|         21.34|\n",
      "|      Unknown|         18.32|\n",
      "|    Manhattan|         15.04|\n",
      "+-------------+--------------+\n",
      "\n"
     ]
    }
   ],
   "source": [
    "#o) Promedio de total_amount por borough de origen\n",
    "\n",
    "spark.sql(\"\"\"\n",
    "SELECT pu_borough,\n",
    "       ROUND(AVG(total_amount),2) AS promedio_total\n",
    "FROM trips_enriched\n",
    "WHERE pu_borough IS NOT NULL\n",
    "GROUP BY pu_borough\n",
    "ORDER BY promedio_total DESC\n",
    "\"\"\").show()\n"
   ]
  },
  {
   "cell_type": "code",
   "execution_count": 57,
   "id": "36bdb445-a273-4141-8f2a-45ddbb400176",
   "metadata": {},
   "outputs": [
    {
     "name": "stdout",
     "output_type": "stream",
     "text": [
      "+-------------+----------------+\n",
      "|   do_borough|promedio_propina|\n",
      "+-------------+----------------+\n",
      "|          EWR|           11.92|\n",
      "|          N/A|            8.62|\n",
      "|Staten Island|            3.81|\n",
      "|       Queens|            2.73|\n",
      "|     Brooklyn|            2.29|\n",
      "|    Manhattan|            1.78|\n",
      "|      Unknown|            1.65|\n",
      "|        Bronx|            0.82|\n",
      "+-------------+----------------+\n",
      "\n"
     ]
    }
   ],
   "source": [
    "#p) Propina promedio por borough de destino\n",
    "\n",
    "spark.sql(\"\"\"\n",
    "SELECT do_borough,\n",
    "       ROUND(AVG(tip_amount),2) AS promedio_propina\n",
    "FROM trips_enriched\n",
    "WHERE do_borough IS NOT NULL\n",
    "GROUP BY do_borough\n",
    "ORDER BY promedio_propina DESC\n",
    "\"\"\").show()\n"
   ]
  },
  {
   "cell_type": "code",
   "execution_count": 58,
   "id": "745f95be-c2f0-4560-b631-baf343bad872",
   "metadata": {},
   "outputs": [
    {
     "name": "stdout",
     "output_type": "stream",
     "text": [
      "+----------------+--------------+\n",
      "|viajes_con_peaje|promedio_peaje|\n",
      "+----------------+--------------+\n",
      "|          868518|          6.15|\n",
      "+----------------+--------------+\n",
      "\n"
     ]
    }
   ],
   "source": [
    "#q) Número de viajes con tolls_amount > 0\n",
    "\n",
    "spark.sql(\"\"\"\n",
    "SELECT COUNT(*) AS viajes_con_peaje,\n",
    "       ROUND(AVG(tolls_amount),2) AS promedio_peaje\n",
    "FROM trips_enriched\n",
    "WHERE tolls_amount > 0\n",
    "\"\"\").show()\n"
   ]
  },
  {
   "cell_type": "code",
   "execution_count": 59,
   "id": "1b3f01dc-bce6-44ab-9673-6af2c3ab1e38",
   "metadata": {},
   "outputs": [
    {
     "name": "stdout",
     "output_type": "stream",
     "text": [
      "+----------------+\n",
      "|minutos_promedio|\n",
      "+----------------+\n",
      "|           17.35|\n",
      "+----------------+\n",
      "\n"
     ]
    }
   ],
   "source": [
    "#r) Promedio de tiempo entre pickup y dropoff\n",
    "\n",
    "spark.sql(\"\"\"\n",
    "SELECT ROUND(AVG(\n",
    "    (unix_timestamp(dropoff_datetime) - unix_timestamp(pickup_datetime)) / 60\n",
    "), 2) AS minutos_promedio\n",
    "FROM trips_enriched\n",
    "\"\"\").show()\n"
   ]
  },
  {
   "cell_type": "code",
   "execution_count": 60,
   "id": "8a80ef3f-d467-4b38-adb1-ef469cf1a037",
   "metadata": {},
   "outputs": [
    {
     "name": "stdout",
     "output_type": "stream",
     "text": [
      "+---------------+\n",
      "|viajes_anomalos|\n",
      "+---------------+\n",
      "|          27198|\n",
      "+---------------+\n",
      "\n"
     ]
    }
   ],
   "source": [
    "#s) Viajes con total_amount negativo o cero (datos anómalos)\n",
    "\n",
    "spark.sql(\"\"\"\n",
    "SELECT COUNT(*) AS viajes_anomalos\n",
    "FROM trips_enriched\n",
    "WHERE total_amount <= 0\n",
    "\"\"\").show()\n"
   ]
  },
  {
   "cell_type": "code",
   "execution_count": 61,
   "id": "0818977b-60d6-4e52-a1bd-28239e090cd3",
   "metadata": {},
   "outputs": [
    {
     "name": "stdout",
     "output_type": "stream",
     "text": [
      "+-----------------+----------------+\n",
      "|payment_type_desc|promedio_propina|\n",
      "+-----------------+----------------+\n",
      "|      Credit card|            2.65|\n",
      "|             NULL|            0.03|\n",
      "|        No charge|             0.0|\n",
      "|          Dispute|             0.0|\n",
      "|             Cash|             0.0|\n",
      "|          Unknown|             0.0|\n",
      "+-----------------+----------------+\n",
      "\n"
     ]
    }
   ],
   "source": [
    "#t) Propina promedio por método de pago\n",
    "\n",
    "spark.sql(\"\"\"\n",
    "SELECT payment_type_desc,\n",
    "       ROUND(AVG(tip_amount),2) AS promedio_propina\n",
    "FROM trips_enriched\n",
    "GROUP BY payment_type_desc\n",
    "ORDER BY promedio_propina DESC\n",
    "\"\"\").show()\n"
   ]
  }
 ],
 "metadata": {
  "kernelspec": {
   "display_name": "Python 3 (ipykernel)",
   "language": "python",
   "name": "python3"
  },
  "language_info": {
   "codemirror_mode": {
    "name": "ipython",
    "version": 3
   },
   "file_extension": ".py",
   "mimetype": "text/x-python",
   "name": "python",
   "nbconvert_exporter": "python",
   "pygments_lexer": "ipython3",
   "version": "3.11.6"
  }
 },
 "nbformat": 4,
 "nbformat_minor": 5
}
